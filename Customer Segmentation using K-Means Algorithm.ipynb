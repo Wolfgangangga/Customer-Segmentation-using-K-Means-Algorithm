{
 "cells": [
  {
   "cell_type": "markdown",
   "id": "9ca5b88d",
   "metadata": {},
   "source": [
    "## Customer Segmentation using K-Means Algorithm\n",
    "by Wolfgang May Panca Angga Adi Purna"
   ]
  },
  {
   "cell_type": "code",
   "execution_count": 7,
   "id": "f9655cac",
   "metadata": {},
   "outputs": [],
   "source": [
    "# Import Packages\n",
    "import pandas as pd\n",
    "import numpy as np\n",
    "import matplotlib.pyplot as plt\n",
    "import seaborn as sns\n",
    "from datetime import datetime\n",
    "from sklearn import preprocessing"
   ]
  },
  {
   "cell_type": "markdown",
   "id": "114f3cc5",
   "metadata": {},
   "source": [
    "### Data Preprocessing"
   ]
  },
  {
   "cell_type": "code",
   "execution_count": 2,
   "id": "1e44d73f",
   "metadata": {},
   "outputs": [],
   "source": [
    "# Import Dataset\n",
    "# Customers dataset\n",
    "url = 'https://drive.google.com/file/d/18Xz9KswZaMuE0sr90PDU62huvM9n6Jdd/view?usp=sharing'\n",
    "file_id = url.split(\"/\")[-2]\n",
    "read_url = \"https://drive.google.com/uc?id=\" + file_id\n",
    "df_cust = pd.read_csv(read_url)\n",
    "\n",
    "# Geolocation dataset\n",
    "url = 'https://drive.google.com/file/d/1y1WIXnHPsBMXrLThmfI9loxx9Wmj4u3H/view?usp=sharing'\n",
    "file_id = url.split(\"/\")[-2]\n",
    "read_url = \"https://drive.google.com/uc?id=\" + file_id\n",
    "df_geo = pd.read_csv(read_url)\n",
    "\n",
    "# Order items dataset \n",
    "url = 'https://drive.google.com/file/d/1iwp1UqYUi6fQU4UVnw-hrhil2aGRKY5n/view?usp=sharing'\n",
    "file_id = url.split(\"/\")[-2]\n",
    "read_url = \"https://drive.google.com/uc?id=\" + file_id\n",
    "df_order_items = pd.read_csv(read_url)\n",
    "\n",
    "# Order payments dataset \n",
    "url = 'https://drive.google.com/file/d/1A0GvK_TpfMq4EcfL5I9EkyxAcFxW-Pab/view?usp=sharing'\n",
    "file_id = url.split(\"/\")[-2]\n",
    "read_url = \"https://drive.google.com/uc?id=\" + file_id\n",
    "df_order_payments = pd.read_csv(read_url)\n",
    "\n",
    "# Order reviews dataset \n",
    "url = 'https://drive.google.com/file/d/1InDHJFl5S7z_p5IwYcSO8K7h69Ll-hRI/view?usp=sharing'\n",
    "file_id = url.split(\"/\")[-2]\n",
    "read_url = \"https://drive.google.com/uc?id=\" + file_id\n",
    "df_order_reviews = pd.read_csv(read_url)\n",
    "\n",
    "# Orders dataset \n",
    "url = 'https://drive.google.com/file/d/1YVVpwk-3yz31gAAUF1h_2FMOnRrTSLZi/view?usp=sharing'\n",
    "file_id = url.split(\"/\")[-2]\n",
    "read_url = \"https://drive.google.com/uc?id=\" + file_id\n",
    "df_orders = pd.read_csv(read_url)\n",
    "\n",
    "# Product category name translation dataset \n",
    "url = 'https://drive.google.com/file/d/1Jx5-Y4lEQtnwCUzdmTUOPdy0AO9RJe7H/view?usp=sharing'\n",
    "file_id = url.split(\"/\")[-2]\n",
    "read_url = \"https://drive.google.com/uc?id=\" + file_id\n",
    "df_prod_names = pd.read_csv(read_url)\n",
    "\n",
    "# Products dataset \n",
    "url = 'https://drive.google.com/file/d/106ETFTrUh79e-PSNiG8W_NtJ5kvre9np/view?usp=sharing'\n",
    "file_id = url.split(\"/\")[-2]\n",
    "read_url = \"https://drive.google.com/uc?id=\" + file_id\n",
    "df_prod = pd.read_csv(read_url)\n",
    "\n",
    "# Sellers dataset \n",
    "url = 'https://drive.google.com/file/d/1SvjWZwLkMYpmbnqMFADAosaosjyxZP52/view?usp=sharing'\n",
    "file_id = url.split(\"/\")[-2]\n",
    "read_url = \"https://drive.google.com/uc?id=\" + file_id\n",
    "df_sellers = pd.read_csv(read_url)"
   ]
  },
  {
   "cell_type": "code",
   "execution_count": 3,
   "id": "74ed991f",
   "metadata": {},
   "outputs": [
    {
     "data": {
      "text/html": [
       "<div>\n",
       "<style scoped>\n",
       "    .dataframe tbody tr th:only-of-type {\n",
       "        vertical-align: middle;\n",
       "    }\n",
       "\n",
       "    .dataframe tbody tr th {\n",
       "        vertical-align: top;\n",
       "    }\n",
       "\n",
       "    .dataframe thead th {\n",
       "        text-align: right;\n",
       "    }\n",
       "</style>\n",
       "<table border=\"1\" class=\"dataframe\">\n",
       "  <thead>\n",
       "    <tr style=\"text-align: right;\">\n",
       "      <th></th>\n",
       "      <th>Dataset</th>\n",
       "      <th>Total Missing Value</th>\n",
       "    </tr>\n",
       "  </thead>\n",
       "  <tbody>\n",
       "    <tr>\n",
       "      <th>0</th>\n",
       "      <td>df_cust</td>\n",
       "      <td>0</td>\n",
       "    </tr>\n",
       "    <tr>\n",
       "      <th>1</th>\n",
       "      <td>df_geo</td>\n",
       "      <td>0</td>\n",
       "    </tr>\n",
       "    <tr>\n",
       "      <th>2</th>\n",
       "      <td>df_order_items</td>\n",
       "      <td>0</td>\n",
       "    </tr>\n",
       "    <tr>\n",
       "      <th>3</th>\n",
       "      <td>df_order_payments</td>\n",
       "      <td>0</td>\n",
       "    </tr>\n",
       "    <tr>\n",
       "      <th>4</th>\n",
       "      <td>df_order_reviews</td>\n",
       "      <td>145903</td>\n",
       "    </tr>\n",
       "    <tr>\n",
       "      <th>5</th>\n",
       "      <td>df_orders</td>\n",
       "      <td>4908</td>\n",
       "    </tr>\n",
       "    <tr>\n",
       "      <th>6</th>\n",
       "      <td>df_prod_names</td>\n",
       "      <td>0</td>\n",
       "    </tr>\n",
       "    <tr>\n",
       "      <th>7</th>\n",
       "      <td>df_prod</td>\n",
       "      <td>2448</td>\n",
       "    </tr>\n",
       "    <tr>\n",
       "      <th>8</th>\n",
       "      <td>df_sellers</td>\n",
       "      <td>0</td>\n",
       "    </tr>\n",
       "  </tbody>\n",
       "</table>\n",
       "</div>"
      ],
      "text/plain": [
       "             Dataset  Total Missing Value\n",
       "0            df_cust                    0\n",
       "1             df_geo                    0\n",
       "2     df_order_items                    0\n",
       "3  df_order_payments                    0\n",
       "4   df_order_reviews               145903\n",
       "5          df_orders                 4908\n",
       "6      df_prod_names                    0\n",
       "7            df_prod                 2448\n",
       "8         df_sellers                    0"
      ]
     },
     "execution_count": 3,
     "metadata": {},
     "output_type": "execute_result"
    }
   ],
   "source": [
    "# Check total missing values in each datasets\n",
    "df_names = ['df_cust', 'df_geo', 'df_order_items', 'df_order_payments', 'df_order_reviews', 'df_orders', 'df_prod_names', 'df_prod', 'df_sellers']\n",
    "df_list = [df_cust, df_geo, df_order_items, df_order_payments, df_order_reviews, df_orders, df_prod_names, df_prod, df_sellers]\n",
    "\n",
    "num_na = []\n",
    "for i in range(9):\n",
    "    na = df_list[i].isnull().sum().sum()\n",
    "    num_na.append(na)\n",
    "\n",
    "pd.DataFrame(list(zip(df_names, num_na)), columns = ['Dataset', 'Total Missing Value'])"
   ]
  },
  {
   "cell_type": "markdown",
   "id": "45bdee08",
   "metadata": {},
   "source": [
    "Based on the table above, could be known that there are missing values on 'df_order_reviews', 'df_orders', and 'df_prod' datasets. To avoid the missing values effects on the analysis, each rows that contain missing value(s) will be removed from the datasets."
   ]
  },
  {
   "cell_type": "code",
   "execution_count": 32,
   "id": "1d69d986",
   "metadata": {},
   "outputs": [
    {
     "data": {
      "text/html": [
       "<div>\n",
       "<style scoped>\n",
       "    .dataframe tbody tr th:only-of-type {\n",
       "        vertical-align: middle;\n",
       "    }\n",
       "\n",
       "    .dataframe tbody tr th {\n",
       "        vertical-align: top;\n",
       "    }\n",
       "\n",
       "    .dataframe thead th {\n",
       "        text-align: right;\n",
       "    }\n",
       "</style>\n",
       "<table border=\"1\" class=\"dataframe\">\n",
       "  <thead>\n",
       "    <tr style=\"text-align: right;\">\n",
       "      <th></th>\n",
       "      <th>Dataset</th>\n",
       "      <th>Total Missing Value</th>\n",
       "    </tr>\n",
       "  </thead>\n",
       "  <tbody>\n",
       "    <tr>\n",
       "      <th>0</th>\n",
       "      <td>df_cust</td>\n",
       "      <td>0</td>\n",
       "    </tr>\n",
       "    <tr>\n",
       "      <th>1</th>\n",
       "      <td>df_geo</td>\n",
       "      <td>0</td>\n",
       "    </tr>\n",
       "    <tr>\n",
       "      <th>2</th>\n",
       "      <td>df_order_items</td>\n",
       "      <td>0</td>\n",
       "    </tr>\n",
       "    <tr>\n",
       "      <th>3</th>\n",
       "      <td>df_order_payments</td>\n",
       "      <td>0</td>\n",
       "    </tr>\n",
       "    <tr>\n",
       "      <th>4</th>\n",
       "      <td>df_order_reviews</td>\n",
       "      <td>0</td>\n",
       "    </tr>\n",
       "    <tr>\n",
       "      <th>5</th>\n",
       "      <td>df_orders</td>\n",
       "      <td>0</td>\n",
       "    </tr>\n",
       "    <tr>\n",
       "      <th>6</th>\n",
       "      <td>df_prod_names</td>\n",
       "      <td>0</td>\n",
       "    </tr>\n",
       "    <tr>\n",
       "      <th>7</th>\n",
       "      <td>df_prod</td>\n",
       "      <td>0</td>\n",
       "    </tr>\n",
       "    <tr>\n",
       "      <th>8</th>\n",
       "      <td>df_sellers</td>\n",
       "      <td>0</td>\n",
       "    </tr>\n",
       "  </tbody>\n",
       "</table>\n",
       "</div>"
      ],
      "text/plain": [
       "             Dataset  Total Missing Value\n",
       "0            df_cust                    0\n",
       "1             df_geo                    0\n",
       "2     df_order_items                    0\n",
       "3  df_order_payments                    0\n",
       "4   df_order_reviews                    0\n",
       "5          df_orders                    0\n",
       "6      df_prod_names                    0\n",
       "7            df_prod                    0\n",
       "8         df_sellers                    0"
      ]
     },
     "execution_count": 32,
     "metadata": {},
     "output_type": "execute_result"
    }
   ],
   "source": [
    "# Drop rows that contains missing value(s) in each datasets\n",
    "for i in range(9):\n",
    "    df_list[i].dropna(inplace = True)\n",
    "    \n",
    "# Check datasets still contain missing values or not\n",
    "num_na = []\n",
    "for i in range(9):\n",
    "    na = df_list[i].isnull().sum().sum()\n",
    "    num_na.append(na)\n",
    "\n",
    "pd.DataFrame(list(zip(df_names, num_na)), columns = ['Dataset', 'Total Missing Value'])"
   ]
  },
  {
   "cell_type": "markdown",
   "id": "e8fc3ca3",
   "metadata": {},
   "source": [
    "Based on the table above, we know that there aren't missing values anymore in each datasets."
   ]
  },
  {
   "cell_type": "code",
   "execution_count": 5,
   "id": "ef3f20a4",
   "metadata": {
    "scrolled": false
   },
   "outputs": [],
   "source": [
    "# Combine datasets into a dataframe\n",
    "main_df = pd.merge(df_cust, df_orders)\n",
    "main_df = pd.merge(main_df, df_order_items)\n",
    "main_df = pd.merge(main_df, df_prod)\n",
    "main_df = pd.merge(main_df, df_prod_names)\n",
    "main_df = pd.merge(main_df, df_order_payments)\n",
    "main_df = pd.merge(main_df, df_order_reviews)\n",
    "main_df = pd.merge(main_df, df_sellers)"
   ]
  },
  {
   "cell_type": "code",
   "execution_count": 6,
   "id": "6f945cca",
   "metadata": {},
   "outputs": [
    {
     "name": "stdout",
     "output_type": "stream",
     "text": [
      "<class 'pandas.core.frame.DataFrame'>\n",
      "Int64Index: 11578 entries, 0 to 11577\n",
      "Data columns (total 40 columns):\n",
      " #   Column                         Non-Null Count  Dtype  \n",
      "---  ------                         --------------  -----  \n",
      " 0   customer_id                    11578 non-null  object \n",
      " 1   customer_unique_id             11578 non-null  object \n",
      " 2   customer_zip_code_prefix       11578 non-null  int64  \n",
      " 3   customer_city                  11578 non-null  object \n",
      " 4   customer_state                 11578 non-null  object \n",
      " 5   order_id                       11578 non-null  object \n",
      " 6   order_status                   11578 non-null  object \n",
      " 7   order_purchase_timestamp       11578 non-null  object \n",
      " 8   order_approved_at              11578 non-null  object \n",
      " 9   order_delivered_carrier_date   11578 non-null  object \n",
      " 10  order_delivered_customer_date  11578 non-null  object \n",
      " 11  order_estimated_delivery_date  11578 non-null  object \n",
      " 12  order_item_id                  11578 non-null  int64  \n",
      " 13  product_id                     11578 non-null  object \n",
      " 14  seller_id                      11578 non-null  object \n",
      " 15  shipping_limit_date            11578 non-null  object \n",
      " 16  price                          11578 non-null  float64\n",
      " 17  freight_value                  11578 non-null  float64\n",
      " 18  product_category_name          11578 non-null  object \n",
      " 19  product_name_lenght            11578 non-null  float64\n",
      " 20  product_description_lenght     11578 non-null  float64\n",
      " 21  product_photos_qty             11578 non-null  float64\n",
      " 22  product_weight_g               11578 non-null  float64\n",
      " 23  product_length_cm              11578 non-null  float64\n",
      " 24  product_height_cm              11578 non-null  float64\n",
      " 25  product_width_cm               11578 non-null  float64\n",
      " 26  product_category_name_english  11578 non-null  object \n",
      " 27  payment_sequential             11578 non-null  int64  \n",
      " 28  payment_type                   11578 non-null  object \n",
      " 29  payment_installments           11578 non-null  int64  \n",
      " 30  payment_value                  11578 non-null  float64\n",
      " 31  review_id                      11578 non-null  object \n",
      " 32  review_score                   11578 non-null  int64  \n",
      " 33  review_comment_title           11578 non-null  object \n",
      " 34  review_comment_message         11578 non-null  object \n",
      " 35  review_creation_date           11578 non-null  object \n",
      " 36  review_answer_timestamp        11578 non-null  object \n",
      " 37  seller_zip_code_prefix         11578 non-null  int64  \n",
      " 38  seller_city                    11578 non-null  object \n",
      " 39  seller_state                   11578 non-null  object \n",
      "dtypes: float64(10), int64(6), object(24)\n",
      "memory usage: 3.6+ MB\n"
     ]
    }
   ],
   "source": [
    "# Check Overview of merged dataset\n",
    "main_df.info()"
   ]
  },
  {
   "cell_type": "markdown",
   "id": "0d4d7663",
   "metadata": {},
   "source": [
    "Based on the information above, the merged dataset has dimension 11577 x 40. There aren't missing values on the merged dataset. However, the datetime-based columns are not in the correct data type."
   ]
  },
  {
   "cell_type": "code",
   "execution_count": 33,
   "id": "b14f87db",
   "metadata": {},
   "outputs": [
    {
     "name": "stdout",
     "output_type": "stream",
     "text": [
      "<class 'pandas.core.frame.DataFrame'>\n",
      "Int64Index: 11578 entries, 0 to 11577\n",
      "Data columns (total 40 columns):\n",
      " #   Column                         Non-Null Count  Dtype         \n",
      "---  ------                         --------------  -----         \n",
      " 0   customer_id                    11578 non-null  object        \n",
      " 1   customer_unique_id             11578 non-null  object        \n",
      " 2   customer_zip_code_prefix       11578 non-null  int64         \n",
      " 3   customer_city                  11578 non-null  object        \n",
      " 4   customer_state                 11578 non-null  object        \n",
      " 5   order_id                       11578 non-null  object        \n",
      " 6   order_status                   11578 non-null  object        \n",
      " 7   order_purchase_timestamp       11578 non-null  datetime64[ns]\n",
      " 8   order_approved_at              11578 non-null  datetime64[ns]\n",
      " 9   order_delivered_carrier_date   11578 non-null  datetime64[ns]\n",
      " 10  order_delivered_customer_date  11578 non-null  datetime64[ns]\n",
      " 11  order_estimated_delivery_date  11578 non-null  datetime64[ns]\n",
      " 12  order_item_id                  11578 non-null  int64         \n",
      " 13  product_id                     11578 non-null  object        \n",
      " 14  seller_id                      11578 non-null  object        \n",
      " 15  shipping_limit_date            11578 non-null  datetime64[ns]\n",
      " 16  price                          11578 non-null  float64       \n",
      " 17  freight_value                  11578 non-null  float64       \n",
      " 18  product_category_name          11578 non-null  object        \n",
      " 19  product_name_lenght            11578 non-null  float64       \n",
      " 20  product_description_lenght     11578 non-null  float64       \n",
      " 21  product_photos_qty             11578 non-null  float64       \n",
      " 22  product_weight_g               11578 non-null  float64       \n",
      " 23  product_length_cm              11578 non-null  float64       \n",
      " 24  product_height_cm              11578 non-null  float64       \n",
      " 25  product_width_cm               11578 non-null  float64       \n",
      " 26  product_category_name_english  11578 non-null  object        \n",
      " 27  payment_sequential             11578 non-null  int64         \n",
      " 28  payment_type                   11578 non-null  object        \n",
      " 29  payment_installments           11578 non-null  int64         \n",
      " 30  payment_value                  11578 non-null  float64       \n",
      " 31  review_id                      11578 non-null  object        \n",
      " 32  review_score                   11578 non-null  int64         \n",
      " 33  review_comment_title           11578 non-null  object        \n",
      " 34  review_comment_message         11578 non-null  object        \n",
      " 35  review_creation_date           11578 non-null  datetime64[ns]\n",
      " 36  review_answer_timestamp        11578 non-null  datetime64[ns]\n",
      " 37  seller_zip_code_prefix         11578 non-null  int64         \n",
      " 38  seller_city                    11578 non-null  object        \n",
      " 39  seller_state                   11578 non-null  object        \n",
      "dtypes: datetime64[ns](8), float64(10), int64(6), object(16)\n",
      "memory usage: 3.6+ MB\n"
     ]
    }
   ],
   "source": [
    "# Convert several columns into datetime type\n",
    "time_cols = ['order_purchase_timestamp', 'order_approved_at', 'order_delivered_carrier_date', 'order_delivered_customer_date',\n",
    "             'order_estimated_delivery_date', 'shipping_limit_date', 'review_creation_date', 'review_answer_timestamp']\n",
    "main_df[time_cols] = main_df[time_cols].apply(pd.to_datetime)\n",
    "main_df.info()"
   ]
  },
  {
   "cell_type": "markdown",
   "id": "acc1c6e6",
   "metadata": {},
   "source": [
    "### Clustering Analysis: Customers Segmentation"
   ]
  },
  {
   "cell_type": "markdown",
   "id": "e445775f",
   "metadata": {},
   "source": [
    "#### Data Preprocessing for Clustering Analysis"
   ]
  },
  {
   "cell_type": "code",
   "execution_count": 34,
   "id": "93ff904b",
   "metadata": {},
   "outputs": [
    {
     "data": {
      "text/plain": [
       "Timestamp('2018-08-29 14:18:28')"
      ]
     },
     "execution_count": 34,
     "metadata": {},
     "output_type": "execute_result"
    }
   ],
   "source": [
    "# Get the last purchase date were made by customers\n",
    "last_purchase_date = main_df.order_purchase_timestamp.max()\n",
    "last_purchase_date"
   ]
  },
  {
   "cell_type": "code",
   "execution_count": 36,
   "id": "63b2771a",
   "metadata": {},
   "outputs": [
    {
     "data": {
      "text/plain": [
       "datetime.datetime(2018, 9, 1, 0, 0)"
      ]
     },
     "execution_count": 36,
     "metadata": {},
     "output_type": "execute_result"
    }
   ],
   "source": [
    "# Assume the present date is the first date of the next month of customers last purchase date\n",
    "present_date = datetime(2018, 9, 1)\n",
    "present_date"
   ]
  },
  {
   "cell_type": "code",
   "execution_count": 11,
   "id": "2b6f2c3f",
   "metadata": {},
   "outputs": [
    {
     "name": "stdout",
     "output_type": "stream",
     "text": [
      "<class 'pandas.core.frame.DataFrame'>\n",
      "Index: 9333 entries, 0000366f3b9a7992bf8c76cfdf3221e2 to ffff5962728ec6157033ef9805bacc48\n",
      "Data columns (total 4 columns):\n",
      " #   Column           Non-Null Count  Dtype  \n",
      "---  ------           --------------  -----  \n",
      " 0   State            9333 non-null   object \n",
      " 1   Total_Payment    9333 non-null   float64\n",
      " 2   Order_Frequency  9333 non-null   int64  \n",
      " 3   Order_Recency    9333 non-null   int64  \n",
      "dtypes: float64(1), int64(2), object(1)\n",
      "memory usage: 364.6+ KB\n",
      "None\n"
     ]
    },
    {
     "data": {
      "text/html": [
       "<div>\n",
       "<style scoped>\n",
       "    .dataframe tbody tr th:only-of-type {\n",
       "        vertical-align: middle;\n",
       "    }\n",
       "\n",
       "    .dataframe tbody tr th {\n",
       "        vertical-align: top;\n",
       "    }\n",
       "\n",
       "    .dataframe thead th {\n",
       "        text-align: right;\n",
       "    }\n",
       "</style>\n",
       "<table border=\"1\" class=\"dataframe\">\n",
       "  <thead>\n",
       "    <tr style=\"text-align: right;\">\n",
       "      <th></th>\n",
       "      <th>State</th>\n",
       "      <th>Total_Payment</th>\n",
       "      <th>Order_Frequency</th>\n",
       "      <th>Order_Recency</th>\n",
       "    </tr>\n",
       "    <tr>\n",
       "      <th>customer_unique_id</th>\n",
       "      <th></th>\n",
       "      <th></th>\n",
       "      <th></th>\n",
       "      <th></th>\n",
       "    </tr>\n",
       "  </thead>\n",
       "  <tbody>\n",
       "    <tr>\n",
       "      <th>0000366f3b9a7992bf8c76cfdf3221e2</th>\n",
       "      <td>SP</td>\n",
       "      <td>141.90</td>\n",
       "      <td>1</td>\n",
       "      <td>113</td>\n",
       "    </tr>\n",
       "    <tr>\n",
       "      <th>000ec5bff359e1c0ad76a81a45cb598f</th>\n",
       "      <td>SP</td>\n",
       "      <td>27.75</td>\n",
       "      <td>1</td>\n",
       "      <td>10</td>\n",
       "    </tr>\n",
       "    <tr>\n",
       "      <th>00172711b30d52eea8b313a7f2cced02</th>\n",
       "      <td>BA</td>\n",
       "      <td>122.07</td>\n",
       "      <td>1</td>\n",
       "      <td>34</td>\n",
       "    </tr>\n",
       "    <tr>\n",
       "      <th>001928b561575b2821c92254a2327d06</th>\n",
       "      <td>SP</td>\n",
       "      <td>329.62</td>\n",
       "      <td>2</td>\n",
       "      <td>7</td>\n",
       "    </tr>\n",
       "    <tr>\n",
       "      <th>0019e8c501c85848ac0966d45226fa1d</th>\n",
       "      <td>MT</td>\n",
       "      <td>197.27</td>\n",
       "      <td>1</td>\n",
       "      <td>122</td>\n",
       "    </tr>\n",
       "    <tr>\n",
       "      <th>...</th>\n",
       "      <td>...</td>\n",
       "      <td>...</td>\n",
       "      <td>...</td>\n",
       "      <td>...</td>\n",
       "    </tr>\n",
       "    <tr>\n",
       "      <th>ffeb904468642a1ce663a322629801cb</th>\n",
       "      <td>MG</td>\n",
       "      <td>93.11</td>\n",
       "      <td>1</td>\n",
       "      <td>65</td>\n",
       "    </tr>\n",
       "    <tr>\n",
       "      <th>ffecceca389973ef16660d58696f281e</th>\n",
       "      <td>SP</td>\n",
       "      <td>72.76</td>\n",
       "      <td>1</td>\n",
       "      <td>128</td>\n",
       "    </tr>\n",
       "    <tr>\n",
       "      <th>fff2ae16b99c6f3c785f0e052f2a9cfb</th>\n",
       "      <td>RJ</td>\n",
       "      <td>200.90</td>\n",
       "      <td>1</td>\n",
       "      <td>133</td>\n",
       "    </tr>\n",
       "    <tr>\n",
       "      <th>fff3e1d7bc75f11dc7670619b2e61840</th>\n",
       "      <td>PI</td>\n",
       "      <td>82.51</td>\n",
       "      <td>1</td>\n",
       "      <td>42</td>\n",
       "    </tr>\n",
       "    <tr>\n",
       "      <th>ffff5962728ec6157033ef9805bacc48</th>\n",
       "      <td>ES</td>\n",
       "      <td>133.69</td>\n",
       "      <td>1</td>\n",
       "      <td>121</td>\n",
       "    </tr>\n",
       "  </tbody>\n",
       "</table>\n",
       "<p>9333 rows × 4 columns</p>\n",
       "</div>"
      ],
      "text/plain": [
       "                                 State  Total_Payment  Order_Frequency  \\\n",
       "customer_unique_id                                                       \n",
       "0000366f3b9a7992bf8c76cfdf3221e2    SP         141.90                1   \n",
       "000ec5bff359e1c0ad76a81a45cb598f    SP          27.75                1   \n",
       "00172711b30d52eea8b313a7f2cced02    BA         122.07                1   \n",
       "001928b561575b2821c92254a2327d06    SP         329.62                2   \n",
       "0019e8c501c85848ac0966d45226fa1d    MT         197.27                1   \n",
       "...                                ...            ...              ...   \n",
       "ffeb904468642a1ce663a322629801cb    MG          93.11                1   \n",
       "ffecceca389973ef16660d58696f281e    SP          72.76                1   \n",
       "fff2ae16b99c6f3c785f0e052f2a9cfb    RJ         200.90                1   \n",
       "fff3e1d7bc75f11dc7670619b2e61840    PI          82.51                1   \n",
       "ffff5962728ec6157033ef9805bacc48    ES         133.69                1   \n",
       "\n",
       "                                  Order_Recency  \n",
       "customer_unique_id                               \n",
       "0000366f3b9a7992bf8c76cfdf3221e2            113  \n",
       "000ec5bff359e1c0ad76a81a45cb598f             10  \n",
       "00172711b30d52eea8b313a7f2cced02             34  \n",
       "001928b561575b2821c92254a2327d06              7  \n",
       "0019e8c501c85848ac0966d45226fa1d            122  \n",
       "...                                         ...  \n",
       "ffeb904468642a1ce663a322629801cb             65  \n",
       "ffecceca389973ef16660d58696f281e            128  \n",
       "fff2ae16b99c6f3c785f0e052f2a9cfb            133  \n",
       "fff3e1d7bc75f11dc7670619b2e61840             42  \n",
       "ffff5962728ec6157033ef9805bacc48            121  \n",
       "\n",
       "[9333 rows x 4 columns]"
      ]
     },
     "execution_count": 11,
     "metadata": {},
     "output_type": "execute_result"
    }
   ],
   "source": [
    "# Prepare the dataset for customers segmentation\n",
    "df_clustering = main_df.groupby('customer_unique_id').agg({'customer_state': lambda x: x.max(),\n",
    "                                                           'payment_value': lambda x: x.sum(),\n",
    "                                                           'order_id': lambda x: len(x),\n",
    "                                                           'order_purchase_timestamp': lambda x: (present_date - x.max()).days})\n",
    "\n",
    "df_clustering.columns = ['State', 'Total_Payment', 'Order_Frequency', 'Order_Recency']\n",
    "print(df_clustering.info())\n",
    "df_clustering"
   ]
  },
  {
   "cell_type": "markdown",
   "id": "7791e5f0",
   "metadata": {},
   "source": [
    "For clustering analysis, a dataset is created using informations from the merged dataset. The dataset contains location, total payment, order frequency, and order recency for each customers. The number of customers are 9333. The dataset have no missing values."
   ]
  },
  {
   "cell_type": "markdown",
   "id": "447d057a",
   "metadata": {},
   "source": [
    "##### EDA of Clustering Dataset"
   ]
  },
  {
   "cell_type": "code",
   "execution_count": 12,
   "id": "f41afd9b",
   "metadata": {},
   "outputs": [
    {
     "name": "stdout",
     "output_type": "stream",
     "text": [
      "       Total_Payment  Order_Frequency  Order_Recency\n",
      "count    9333.000000      9333.000000    9333.000000\n",
      "mean      245.638111         1.240544      75.423551\n",
      "std       641.607276         0.723361      42.535458\n",
      "min        13.890000         1.000000       2.000000\n",
      "25%        68.180000         1.000000      37.000000\n",
      "50%       122.420000         1.000000      75.000000\n",
      "75%       217.550000         1.000000     113.000000\n",
      "max     29099.520000        13.000000     484.000000\n"
     ]
    },
    {
     "data": {
      "image/png": "[encoded data removed]",
      "text/plain": [
       "<Figure size 1440x360 with 4 Axes>"
      ]
     },
     "metadata": {
      "needs_background": "light"
     },
     "output_type": "display_data"
    }
   ],
   "source": [
    "# Visualisation for each columns\n",
    "print(df_clustering.describe())\n",
    "\n",
    "fig, ax = plt.subplots(nrows = 1, ncols = 4, figsize=(20, 5))\n",
    "\n",
    "sns.countplot(x = df_clustering['State'], order=pd.value_counts(df_clustering['State']).iloc[:10].index, ax = ax[0])\n",
    "ax[1].boxplot(x = df_clustering['Total_Payment'], whis=1.5)\n",
    "ax[2].boxplot(x = df_clustering['Order_Frequency'], whis=1.5)\n",
    "ax[3].boxplot(x = df_clustering['Order_Recency'], whis=1.5)\n",
    "ax[1].set(title = 'Total Payment', xticklabels=[])\n",
    "ax[2].set(title = 'Order Frequency', xticklabels=[])\n",
    "ax[3].set(title = 'Order Recency', xticklabels=[])\n",
    "\n",
    "plt.show()"
   ]
  },
  {
   "cell_type": "markdown",
   "id": "6b60768d",
   "metadata": {},
   "source": [
    "From the visualisation analysis above, could be known that most of the customers live in SP, RJ and MG state. About 75% of the customers have total payment below 220 and order frequency of 1, they can be considered as new customer. About 25% of the customers have recently made a transaction in the last 37 days."
   ]
  },
  {
   "cell_type": "code",
   "execution_count": 13,
   "id": "28c6ab0f",
   "metadata": {},
   "outputs": [
    {
     "data": {
      "image/png": "[encoded data removed]",
      "text/plain": [
       "<Figure size 1440x360 with 3 Axes>"
      ]
     },
     "metadata": {
      "needs_background": "light"
     },
     "output_type": "display_data"
    }
   ],
   "source": [
    "# Visualisation between customer location and others variables\n",
    "fig, ax = plt.subplots(nrows=1, ncols=3, figsize=(20, 5))\n",
    "\n",
    "sns.boxplot(data = df_clustering, x = 'State', y = 'Total_Payment', order = pd.value_counts(df_clustering['State']).iloc[:10].index, ax = ax[0], whis=1.5)\n",
    "sns.boxplot(data = df_clustering, x = 'State', y = 'Order_Frequency', order = pd.value_counts(df_clustering['State']).iloc[:10].index, ax = ax[1], whis=1.5)\n",
    "sns.boxplot(data = df_clustering, x = 'State', y = 'Order_Recency', order = pd.value_counts(df_clustering['State']).iloc[:10].index, ax = ax[2], whis=1.5)\n",
    "\n",
    "plt.show()"
   ]
  },
  {
   "cell_type": "markdown",
   "id": "6c0fed05",
   "metadata": {},
   "source": [
    "In this visualisation, the visualisations only use top 10 state that have the most customers assuming its can represent other states. From the plots above, could be known that total payment, order frequency and order recency have the same pattern in all of the states. Therefore, 'State' variable is not informative to be used on customer segmentation."
   ]
  },
  {
   "cell_type": "markdown",
   "id": "9cba07d1",
   "metadata": {},
   "source": [
    "##### Clustering using K-Means Algorithm"
   ]
  },
  {
   "cell_type": "markdown",
   "id": "21cea890",
   "metadata": {},
   "source": [
    "Before do clustering using K-Means algorithm, each columns in the dataset should be scaled to create same scale data. The scaling process is needed because K-Means algorithm use distance-based dissimilarity measure. Besides, the scaling process can solve outliers problem."
   ]
  },
  {
   "cell_type": "code",
   "execution_count": 23,
   "id": "96dae8ed",
   "metadata": {},
   "outputs": [
    {
     "data": {
      "text/html": [
       "<div>\n",
       "<style scoped>\n",
       "    .dataframe tbody tr th:only-of-type {\n",
       "        vertical-align: middle;\n",
       "    }\n",
       "\n",
       "    .dataframe tbody tr th {\n",
       "        vertical-align: top;\n",
       "    }\n",
       "\n",
       "    .dataframe thead th {\n",
       "        text-align: right;\n",
       "    }\n",
       "</style>\n",
       "<table border=\"1\" class=\"dataframe\">\n",
       "  <thead>\n",
       "    <tr style=\"text-align: right;\">\n",
       "      <th></th>\n",
       "      <th>Total_Payment</th>\n",
       "      <th>Order_Frequency</th>\n",
       "      <th>Order_Recency</th>\n",
       "    </tr>\n",
       "  </thead>\n",
       "  <tbody>\n",
       "    <tr>\n",
       "      <th>0</th>\n",
       "      <td>0.004401</td>\n",
       "      <td>0.000000</td>\n",
       "      <td>0.230290</td>\n",
       "    </tr>\n",
       "    <tr>\n",
       "      <th>1</th>\n",
       "      <td>0.000477</td>\n",
       "      <td>0.000000</td>\n",
       "      <td>0.016598</td>\n",
       "    </tr>\n",
       "    <tr>\n",
       "      <th>2</th>\n",
       "      <td>0.003719</td>\n",
       "      <td>0.000000</td>\n",
       "      <td>0.066390</td>\n",
       "    </tr>\n",
       "    <tr>\n",
       "      <th>3</th>\n",
       "      <td>0.010855</td>\n",
       "      <td>0.083333</td>\n",
       "      <td>0.010373</td>\n",
       "    </tr>\n",
       "    <tr>\n",
       "      <th>4</th>\n",
       "      <td>0.006305</td>\n",
       "      <td>0.000000</td>\n",
       "      <td>0.248963</td>\n",
       "    </tr>\n",
       "    <tr>\n",
       "      <th>...</th>\n",
       "      <td>...</td>\n",
       "      <td>...</td>\n",
       "      <td>...</td>\n",
       "    </tr>\n",
       "    <tr>\n",
       "      <th>9328</th>\n",
       "      <td>0.002724</td>\n",
       "      <td>0.000000</td>\n",
       "      <td>0.130705</td>\n",
       "    </tr>\n",
       "    <tr>\n",
       "      <th>9329</th>\n",
       "      <td>0.002024</td>\n",
       "      <td>0.000000</td>\n",
       "      <td>0.261411</td>\n",
       "    </tr>\n",
       "    <tr>\n",
       "      <th>9330</th>\n",
       "      <td>0.006430</td>\n",
       "      <td>0.000000</td>\n",
       "      <td>0.271784</td>\n",
       "    </tr>\n",
       "    <tr>\n",
       "      <th>9331</th>\n",
       "      <td>0.002359</td>\n",
       "      <td>0.000000</td>\n",
       "      <td>0.082988</td>\n",
       "    </tr>\n",
       "    <tr>\n",
       "      <th>9332</th>\n",
       "      <td>0.004119</td>\n",
       "      <td>0.000000</td>\n",
       "      <td>0.246888</td>\n",
       "    </tr>\n",
       "  </tbody>\n",
       "</table>\n",
       "<p>9333 rows × 3 columns</p>\n",
       "</div>"
      ],
      "text/plain": [
       "      Total_Payment  Order_Frequency  Order_Recency\n",
       "0          0.004401         0.000000       0.230290\n",
       "1          0.000477         0.000000       0.016598\n",
       "2          0.003719         0.000000       0.066390\n",
       "3          0.010855         0.083333       0.010373\n",
       "4          0.006305         0.000000       0.248963\n",
       "...             ...              ...            ...\n",
       "9328       0.002724         0.000000       0.130705\n",
       "9329       0.002024         0.000000       0.261411\n",
       "9330       0.006430         0.000000       0.271784\n",
       "9331       0.002359         0.000000       0.082988\n",
       "9332       0.004119         0.000000       0.246888\n",
       "\n",
       "[9333 rows x 3 columns]"
      ]
     },
     "execution_count": 23,
     "metadata": {},
     "output_type": "execute_result"
    }
   ],
   "source": [
    "# Scaling dataset\n",
    "df = df_clustering.drop(['State'], axis = 1)\n",
    "scaler = preprocessing.MinMaxScaler()\n",
    "df = pd.DataFrame(scaler.fit_transform(df), columns = ['Total_Payment', 'Order_Frequency', 'Order_Recency'])\n",
    "df"
   ]
  },
  {
   "cell_type": "code",
   "execution_count": 31,
   "id": "509ba944",
   "metadata": {},
   "outputs": [
    {
     "data": {
      "image/png": "[encoded data removed]",
      "text/plain": [
       "<Figure size 1440x360 with 2 Axes>"
      ]
     },
     "metadata": {},
     "output_type": "display_data"
    }
   ],
   "source": [
    "# Find the best number of clusters\n",
    "fig, ax = plt.subplots(nrows = 1, ncols = 2, figsize = (20, 5))\n",
    "\n",
    "# Elbow Method\n",
    "from sklearn.cluster import KMeans\n",
    "sse = []\n",
    "for k in range(1, 11):\n",
    "    kmeans = KMeans(init = 'random', n_clusters = k, n_init = 10, max_iter = 300, random_state = 123)\n",
    "    kmeans.fit(df)\n",
    "    sse.append(kmeans.inertia_)\n",
    "    \n",
    "plt.style.use(\"fivethirtyeight\")\n",
    "ax[0].plot(range(1, 11), sse)\n",
    "ax[0].xaxis.set(ticks = range(1, 11))\n",
    "ax[0].set_xlabel(\"Number of Clusters\")\n",
    "ax[0].set_ylabel(\"SSE\")\n",
    "\n",
    "# Silhouette Score\n",
    "from sklearn.metrics import silhouette_score\n",
    "silhouette_coefficients = []\n",
    "for k in range(2, 11):\n",
    "    kmeans = KMeans(init = 'random', n_clusters = k, n_init = 10, max_iter = 300, random_state = 123)\n",
    "    kmeans.fit(df)\n",
    "    score = silhouette_score(df, kmeans.labels_)\n",
    "    silhouette_coefficients.append(score)\n",
    "    \n",
    "plt.style.use(\"fivethirtyeight\")\n",
    "ax[1].plot(range(2, 11), silhouette_coefficients)\n",
    "ax[1].set_xlabel(\"Number of Clusters\")\n",
    "ax[1].set_ylabel(\"Silhouette Coefficient\")\n",
    "\n",
    "plt.show()"
   ]
  },
  {
   "cell_type": "markdown",
   "id": "3622f46c",
   "metadata": {},
   "source": [
    "From the plots above, could be known that the best number of cluster is k = 3 because it is the smallest number of clusters that has small error and highest sillhoutte score. "
   ]
  },
  {
   "cell_type": "markdown",
   "id": "00191412",
   "metadata": {},
   "source": [
    "##### Customers Segemntation Model"
   ]
  },
  {
   "cell_type": "code",
   "execution_count": 46,
   "id": "bf5863d8",
   "metadata": {},
   "outputs": [],
   "source": [
    "# Model\n",
    "cust_seg = KMeans(init = 'random', n_clusters = 3, n_init = 10, max_iter = 300, random_state = 123)\n",
    "cust_seg_model = cust_seg.fit(df)"
   ]
  },
  {
   "cell_type": "code",
   "execution_count": 52,
   "id": "f03d4bf6",
   "metadata": {},
   "outputs": [
    {
     "data": {
      "text/html": [
       "<div>\n",
       "<style scoped>\n",
       "    .dataframe tbody tr th:only-of-type {\n",
       "        vertical-align: middle;\n",
       "    }\n",
       "\n",
       "    .dataframe tbody tr th {\n",
       "        vertical-align: top;\n",
       "    }\n",
       "\n",
       "    .dataframe thead th {\n",
       "        text-align: right;\n",
       "    }\n",
       "</style>\n",
       "<table border=\"1\" class=\"dataframe\">\n",
       "  <thead>\n",
       "    <tr style=\"text-align: right;\">\n",
       "      <th></th>\n",
       "      <th>Total Payment</th>\n",
       "      <th>Order Frequency</th>\n",
       "      <th>Order Recency</th>\n",
       "    </tr>\n",
       "  </thead>\n",
       "  <tbody>\n",
       "    <tr>\n",
       "      <th>Cluster 1</th>\n",
       "      <td>0.051255</td>\n",
       "      <td>0.257042</td>\n",
       "      <td>0.167150</td>\n",
       "    </tr>\n",
       "    <tr>\n",
       "      <th>Cluster 2</th>\n",
       "      <td>0.006419</td>\n",
       "      <td>0.010679</td>\n",
       "      <td>0.228657</td>\n",
       "    </tr>\n",
       "    <tr>\n",
       "      <th>Cluster 3</th>\n",
       "      <td>0.006097</td>\n",
       "      <td>0.010669</td>\n",
       "      <td>0.076494</td>\n",
       "    </tr>\n",
       "  </tbody>\n",
       "</table>\n",
       "</div>"
      ],
      "text/plain": [
       "           Total Payment  Order Frequency  Order Recency\n",
       "Cluster 1       0.051255         0.257042       0.167150\n",
       "Cluster 2       0.006419         0.010679       0.228657\n",
       "Cluster 3       0.006097         0.010669       0.076494"
      ]
     },
     "execution_count": 52,
     "metadata": {},
     "output_type": "execute_result"
    }
   ],
   "source": [
    "# Cluster Centers\n",
    "cluster = ['Cluster 1', 'Cluster 2', 'Cluster 3']\n",
    "pd.DataFrame(cust_seg_model.cluster_centers_, columns = ['Total Payment', 'Order Frequency', 'Order Recency'], index = cluster)"
   ]
  },
  {
   "cell_type": "markdown",
   "id": "0e2e6afd",
   "metadata": {},
   "source": [
    "From the table above, customers can be segmented as follows:\n",
    "- Cluster 1 as Loyal Customers\n",
    "<br> Customers from this cluster have large transaction payments and make pruchases more often.\n",
    "- Cluster 2 as At Risk Customers\n",
    "<br> Customers from this cluster have small transaction payments and have not purchases for a long time.\n",
    "- Cluster 3 as Active Customers\n",
    "<br> Customers from this cluster recently make purchases."
   ]
  },
  {
   "cell_type": "markdown",
   "id": "3a5f7060",
   "metadata": {},
   "source": [
    "##### Segmentation New Customer\n",
    "- Scaling customer's data using Min-Max Scaling method:\n",
    "<br> Total Payment\n",
    "<br> Total Payment_scaled = (Total Payment - 13.89)/(29099.52 - 13.89)\n",
    "<br> Order Frequency\n",
    "<br> Order Frequency_scaled = (Order Frequency - 1)/(13 - 1)\n",
    "<br> Order Recency\n",
    "<br> Order Recency_scaled = (Order Recency - 2)/(484 - 2)\n",
    "<br>\n",
    "<br>\n",
    "- Calculate distance measure for clustering:\n",
    "<br> distance = sqrt((Total Payment_scaled - Total Payment_centroid cluster i)^2 + (Order Frequency_scaled - Order Frequency_centroid cluster i)^2 + (Order Recency_scaled - Order Recency_centroid cluster i)^2)\n",
    "<br> for i : cluster 1, cluster 2, cluster 3\n",
    "<br>\n",
    "<br> The above formula is applied to each clusters. \n",
    "<br> Then get distance of new customer to each clusters and find the smallest ones. The smallest distance is the cluster for the new customer."
   ]
  }
 ],
 "metadata": {
  "kernelspec": {
   "display_name": "Python 3 (ipykernel)",
   "language": "python",
   "name": "python3"
  },
  "language_info": {
   "codemirror_mode": {
    "name": "ipython",
    "version": 3
   },
   "file_extension": ".py",
   "mimetype": "text/x-python",
   "name": "python",
   "nbconvert_exporter": "python",
   "pygments_lexer": "ipython3",
   "version": "3.9.12"
  }
 },
 "nbformat": 4,
 "nbformat_minor": 5
}
